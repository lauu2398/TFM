{
  "cells": [
    {
      "cell_type": "markdown",
      "metadata": {
        "id": "fnwlQd4tJAlQ"
      },
      "source": [
        "\n",
        "Given the challenges in acquiring medical images, we will select 100 images for each class. We will then train the same model in a supervised manner using the dataset consisting of these 100 images."
      ]
    },
    {
      "cell_type": "code",
      "execution_count": null,
      "metadata": {
        "colab": {
          "base_uri": "https://localhost:8080/"
        },
        "id": "S4m8eumQKjgz",
        "outputId": "720ccad2-130d-41cc-bc7f-772a5abcf702"
      },
      "outputs": [
        {
          "name": "stdout",
          "output_type": "stream",
          "text": [
            "Drive already mounted at /content/drive; to attempt to forcibly remount, call drive.mount(\"/content/drive\", force_remount=True).\n"
          ]
        }
      ],
      "source": [
        "from google.colab import drive\n",
        "drive.mount('/content/drive')"
      ]
    },
    {
      "cell_type": "code",
      "execution_count": null,
      "metadata": {
        "id": "gp8qQmxyK_qs"
      },
      "outputs": [],
      "source": [
        "# All imports here:\n",
        "import matplotlib.pyplot as plt\n",
        "import numpy as np\n",
        "import cv2\n",
        "import pathlib\n",
        "import os\n",
        "import time, datetime\n",
        "\n",
        "from random import sample\n",
        "\n",
        "from sklearn.model_selection import train_test_split\n",
        "from sklearn.preprocessing import LabelEncoder\n",
        "from sklearn.metrics import classification_report\n",
        "\n",
        "import tensorflow as tf\n",
        "from tensorflow import keras\n",
        "from tensorflow.keras.callbacks import EarlyStopping, ReduceLROnPlateau\n",
        "from tensorflow.keras.preprocessing.image import ImageDataGenerator\n",
        "from tensorflow.keras.utils import to_categorical\n",
        "\n",
        "#from keras_tuner.tuners import Hyperband\n",
        "from tensorflow.keras.optimizers import Adam\n",
        "from tensorflow.keras import layers\n",
        "from tensorflow.keras.layers import Dropout, Flatten, Dense, GlobalAveragePooling2D, AveragePooling2D\n",
        "from tensorflow.keras import Model\n",
        "\n",
        "\n",
        "from keras.callbacks import ReduceLROnPlateau\n",
        "\n",
        "from tensorflow.keras.applications import VGG16, ResNet50\n",
        "from tensorflow.keras.models import Sequential\n"
      ]
    },
    {
      "cell_type": "code",
      "execution_count": null,
      "metadata": {
        "id": "NuR2_47jLYXx"
      },
      "outputs": [],
      "source": [
        "import os\n",
        "# Define the folders where the images are\n",
        "dataset= '/content/drive/MyDrive/images_100'\n",
        "folders_100 = os.listdir(dataset)"
      ]
    },
    {
      "cell_type": "code",
      "execution_count": null,
      "metadata": {
        "id": "FXigUelcI_96"
      },
      "outputs": [],
      "source": [
        "\n",
        "\n",
        "# list to load images and labels\n",
        "X_train_paper = []\n",
        "y_train_paper = []\n",
        "# Funtion to load images and labels\n",
        "def load_data(folder, label):\n",
        "    for file_i in os.listdir(folder):\n",
        "        path = os.path.join(folder, file_i)\n",
        "        image = cv2.imread(path)\n",
        "\n",
        "        if image is not None:\n",
        "          image = cv2.cvtColor(image, cv2.COLOR_BGR2RGB)  # Convert from BGR to RGB Convertir de BGR a RGB\n",
        "          image = cv2.resize(image, (224, 224))  # Resize to the same size\n",
        "          X_train_paper.append(image)\n",
        "          y_train_paper.append(label)\n",
        "        else:\n",
        "          print(path)\n",
        "# load data to each folder\n",
        "\n",
        "\n",
        "for  label in folders_100:\n",
        "  folder = os.path.join(dataset, label)\n",
        "\n",
        "  load_data(folder=folder, label=label)"
      ]
    },
    {
      "cell_type": "code",
      "execution_count": null,
      "metadata": {
        "id": "uJSIjyNmI7Ss"
      },
      "outputs": [],
      "source": [
        "# variables\n",
        "img_height = 224\n",
        "img_width =224\n",
        "depth = 3\n",
        "BATCH_SIZE = 32\n",
        "classes=len(folders_100)\n",
        "labels = folders_100\n",
        "inputsize = (img_height, img_width, depth)"
      ]
    },
    {
      "cell_type": "code",
      "execution_count": null,
      "metadata": {
        "colab": {
          "base_uri": "https://localhost:8080/"
        },
        "id": "y_9wfHZONcek",
        "outputId": "13c68548-3515-4941-dcf6-d4dd27b4e2f8"
      },
      "outputs": [
        {
          "name": "stdout",
          "output_type": "stream",
          "text": [
            "Forma del array de imágenes: (600, 224, 224, 3)\n",
            "Forma del array de etiquetas: (600,)\n"
          ]
        }
      ],
      "source": [
        "X = np.array(X_train_paper)\n",
        "y = np.array(y_train_paper)\n",
        "\n",
        "print(\"Forma del array de imágenes:\", X.shape)\n",
        "print(\"Forma del array de etiquetas:\", y.shape)\n"
      ]
    },
    {
      "cell_type": "code",
      "execution_count": null,
      "metadata": {
        "colab": {
          "base_uri": "https://localhost:8080/"
        },
        "id": "QbYrCEzGNpmE",
        "outputId": "2ddd9355-c206-400a-8fc5-8c86edcd925b"
      },
      "outputs": [
        {
          "name": "stdout",
          "output_type": "stream",
          "text": [
            "(480, 224, 224, 3)\n",
            "(480,)\n",
            "(120, 224, 224, 3)\n",
            "(120,)\n"
          ]
        }
      ],
      "source": [
        "\n",
        "x_train, x_val, y_train, y_val = train_test_split(X, y, test_size=0.2,\n",
        "                                                    shuffle=True, stratify=y ,random_state=42)\n",
        "\n",
        "\n",
        "print(x_train.shape)\n",
        "print(y_train.shape)\n",
        "print(x_val.shape)\n",
        "print(y_val.shape)"
      ]
    },
    {
      "cell_type": "code",
      "execution_count": null,
      "metadata": {
        "colab": {
          "base_uri": "https://localhost:8080/",
          "height": 144
        },
        "id": "lbihcXvhNsmI",
        "outputId": "420e96b9-cdea-4e0b-ca31-c9f50ddbe4ec"
      },
      "outputs": [
        {
          "data": {
            "image/png": "[encoded data removed]",
            "text/plain": [
              "<Figure size 640x480 with 5 Axes>"
            ]
          },
          "metadata": {},
          "output_type": "display_data"
        }
      ],
      "source": [
        "indices_aleatorios = sample(range(len(x_train)), 5)\n",
        "for i, idx in enumerate(indices_aleatorios):\n",
        "    plt.subplot(2, 5, i + 1)\n",
        "    plt.imshow(x_train[idx])\n",
        "    plt.title(f'{y_train[idx]}  ')\n",
        "    plt.axis('off')\n",
        "\n",
        "plt.show()\n",
        "\n",
        "#Check de imagenes y etiquetas"
      ]
    },
    {
      "cell_type": "code",
      "execution_count": null,
      "metadata": {
        "colab": {
          "base_uri": "https://localhost:8080/"
        },
        "id": "3Tfy5Gp7Nw3U",
        "outputId": "5f5bd57c-f3b3-4672-ccb9-49e42b88dad5"
      },
      "outputs": [
        {
          "name": "stdout",
          "output_type": "stream",
          "text": [
            "(480, 224, 224, 3)\n",
            "(480,)\n",
            "(120, 224, 224, 3)\n",
            "(120,)\n"
          ]
        }
      ],
      "source": [
        "# Convierte a one-hot encoding\n",
        "label_encoder = LabelEncoder()\n",
        "\n",
        "print(x_train.shape)\n",
        "print(y_train.shape)\n",
        "print(x_val.shape)\n",
        "print(y_val.shape)\n",
        "\n",
        "y_train_encoded = label_encoder.fit_transform(y_train)\n",
        "y_train_one_hot = to_categorical(y_train_encoded, num_classes=6)\n",
        "\n",
        "# Convierte las etiquetas a números\n",
        "y_val_encoded = label_encoder.fit_transform(y_val)\n",
        "y_val_one_hot = to_categorical(y_val_encoded, num_classes=6)\n",
        "# Normalize the pixel values \n",
        "x_train = x_train.astype(\"float\") / 255.0\n",
        "x_val = x_val.astype(\"float\") / 255.0\n"
      ]
    },
    {
      "cell_type": "code",
      "execution_count": null,
      "metadata": {
        "id": "m3LKtwebN2a5"
      },
      "outputs": [],
      "source": [
        "\n",
        "datagen = ImageDataGenerator(\n",
        "    rotation_range=15, # grados de rotacion aleatoria\n",
        "    width_shift_range=0.3, # fraccion del total (1) para mover la imagen\n",
        "    height_shift_range=0.3, # fraccion del total (1) para mover la imagen\n",
        "    horizontal_flip=True, # girar las imagenes horizontalmente (eje vertical)\n",
        "    shear_range=0.25, # deslizamiento\n",
        "    zoom_range=0.2, # rango de zoom\n",
        "    fill_mode='nearest', # como rellenar posibles nuevos pixeles\n",
        "    channel_shift_range=0.3, # cambios aleatorios en los canales de la imagen\n",
        "     validation_split=0.2 # no va a afectar a validación solo entrenamiento\n",
        ")"
      ]
    },
    {
      "cell_type": "code",
      "execution_count": null,
      "metadata": {
        "colab": {
          "base_uri": "https://localhost:8080/"
        },
        "id": "eLXIhS8lOAPX",
        "outputId": "66165a84-2627-4ced-c8e8-36ad8ad84aa4"
      },
      "outputs": [
        {
          "name": "stdout",
          "output_type": "stream",
          "text": [
            "Model: \"vgg16\"\n",
            "_________________________________________________________________\n",
            " Layer (type)                Output Shape              Param #   \n",
            "=================================================================\n",
            " input_3 (InputLayer)        [(None, 224, 224, 3)]     0         \n",
            "                                                                 \n",
            " block1_conv1 (Conv2D)       (None, 224, 224, 64)      1792      \n",
            "                                                                 \n",
            " block1_conv2 (Conv2D)       (None, 224, 224, 64)      36928     \n",
            "                                                                 \n",
            " block1_pool (MaxPooling2D)  (None, 112, 112, 64)      0         \n",
            "                                                                 \n",
            " block2_conv1 (Conv2D)       (None, 112, 112, 128)     73856     \n",
            "                                                                 \n",
            " block2_conv2 (Conv2D)       (None, 112, 112, 128)     147584    \n",
            "                                                                 \n",
            " block2_pool (MaxPooling2D)  (None, 56, 56, 128)       0         \n",
            "                                                                 \n",
            " block3_conv1 (Conv2D)       (None, 56, 56, 256)       295168    \n",
            "                                                                 \n",
            " block3_conv2 (Conv2D)       (None, 56, 56, 256)       590080    \n",
            "                                                                 \n",
            " block3_conv3 (Conv2D)       (None, 56, 56, 256)       590080    \n",
            "                                                                 \n",
            " block3_pool (MaxPooling2D)  (None, 28, 28, 256)       0         \n",
            "                                                                 \n",
            " block4_conv1 (Conv2D)       (None, 28, 28, 512)       1180160   \n",
            "                                                                 \n",
            " block4_conv2 (Conv2D)       (None, 28, 28, 512)       2359808   \n",
            "                                                                 \n",
            " block4_conv3 (Conv2D)       (None, 28, 28, 512)       2359808   \n",
            "                                                                 \n",
            " block4_pool (MaxPooling2D)  (None, 14, 14, 512)       0         \n",
            "                                                                 \n",
            " block5_conv1 (Conv2D)       (None, 14, 14, 512)       2359808   \n",
            "                                                                 \n",
            " block5_conv2 (Conv2D)       (None, 14, 14, 512)       2359808   \n",
            "                                                                 \n",
            " block5_conv3 (Conv2D)       (None, 14, 14, 512)       2359808   \n",
            "                                                                 \n",
            " block5_pool (MaxPooling2D)  (None, 7, 7, 512)         0         \n",
            "                                                                 \n",
            "=================================================================\n",
            "Total params: 14714688 (56.13 MB)\n",
            "Trainable params: 14714688 (56.13 MB)\n",
            "Non-trainable params: 0 (0.00 Byte)\n",
            "_________________________________________________________________\n"
          ]
        },
        {
          "name": "stderr",
          "output_type": "stream",
          "text": [
            "WARNING:absl:`lr` is deprecated in Keras optimizer, please use `learning_rate` or use the legacy optimizer, e.g.,tf.keras.optimizers.legacy.Adam.\n"
          ]
        },
        {
          "name": "stdout",
          "output_type": "stream",
          "text": [
            "Capa input_3 congelada...\n",
            "Capa block1_conv1 congelada...\n",
            "Capa block1_conv2 congelada...\n",
            "Capa block1_pool congelada...\n",
            "Capa block2_conv1 congelada...\n",
            "Capa block2_conv2 congelada...\n",
            "Capa block2_pool congelada...\n",
            "Capa block3_conv1 congelada...\n",
            "Capa block3_conv2 congelada...\n",
            "Capa block3_conv3 congelada...\n",
            "Capa block3_pool congelada...\n",
            "Capa block4_conv1 congelada...\n",
            "Capa block4_conv2 congelada...\n",
            "Capa block4_conv3 congelada...\n",
            "Capa block4_pool congelada...\n",
            "Capa block5_conv1 congelada...\n",
            "Capa block5_conv2 congelada...\n",
            "Model: \"model_2\"\n",
            "_________________________________________________________________\n",
            " Layer (type)                Output Shape              Param #   \n",
            "=================================================================\n",
            " input_3 (InputLayer)        [(None, 224, 224, 3)]     0         \n",
            "                                                                 \n",
            " block1_conv1 (Conv2D)       (None, 224, 224, 64)      1792      \n",
            "                                                                 \n",
            " block1_conv2 (Conv2D)       (None, 224, 224, 64)      36928     \n",
            "                                                                 \n",
            " block1_pool (MaxPooling2D)  (None, 112, 112, 64)      0         \n",
            "                                                                 \n",
            " block2_conv1 (Conv2D)       (None, 112, 112, 128)     73856     \n",
            "                                                                 \n",
            " block2_conv2 (Conv2D)       (None, 112, 112, 128)     147584    \n",
            "                                                                 \n",
            " block2_pool (MaxPooling2D)  (None, 56, 56, 128)       0         \n",
            "                                                                 \n",
            " block3_conv1 (Conv2D)       (None, 56, 56, 256)       295168    \n",
            "                                                                 \n",
            " block3_conv2 (Conv2D)       (None, 56, 56, 256)       590080    \n",
            "                                                                 \n",
            " block3_conv3 (Conv2D)       (None, 56, 56, 256)       590080    \n",
            "                                                                 \n",
            " block3_pool (MaxPooling2D)  (None, 28, 28, 256)       0         \n",
            "                                                                 \n",
            " block4_conv1 (Conv2D)       (None, 28, 28, 512)       1180160   \n",
            "                                                                 \n",
            " block4_conv2 (Conv2D)       (None, 28, 28, 512)       2359808   \n",
            "                                                                 \n",
            " block4_conv3 (Conv2D)       (None, 28, 28, 512)       2359808   \n",
            "                                                                 \n",
            " block4_pool (MaxPooling2D)  (None, 14, 14, 512)       0         \n",
            "                                                                 \n",
            " block5_conv1 (Conv2D)       (None, 14, 14, 512)       2359808   \n",
            "                                                                 \n",
            " block5_conv2 (Conv2D)       (None, 14, 14, 512)       2359808   \n",
            "                                                                 \n",
            " block5_conv3 (Conv2D)       (None, 14, 14, 512)       2359808   \n",
            "                                                                 \n",
            " block5_pool (MaxPooling2D)  (None, 7, 7, 512)         0         \n",
            "                                                                 \n",
            " flatten_2 (Flatten)         (None, 25088)             0         \n",
            "                                                                 \n",
            " fc1 (Dense)                 (None, 256)               6422784   \n",
            "                                                                 \n",
            " dropout_2 (Dropout)         (None, 256)               0         \n",
            "                                                                 \n",
            " fc2 (Dense)                 (None, 512)               131584    \n",
            "                                                                 \n",
            " predictions (Dense)         (None, 6)                 3078      \n",
            "                                                                 \n",
            "=================================================================\n",
            "Total params: 21272134 (81.15 MB)\n",
            "Trainable params: 8917254 (34.02 MB)\n",
            "Non-trainable params: 12354880 (47.13 MB)\n",
            "_________________________________________________________________\n"
          ]
        }
      ],
      "source": [
        "\n",
        "# documentacion https://keras.io/applications/\n",
        "\n",
        "base_model = VGG16(weights='imagenet', include_top=False, input_shape=inputsize)\n",
        "\n",
        "base_model.summary()\n",
        "\n",
        "# The layers of the first 4 convolutional blocks are frozen, while the fifth one is retrained.\n",
        "# We have the information about the layer names in base_model.layers.name.\n",
        "for layer in base_model.layers:\n",
        "  if layer.name == 'block5_conv3':\n",
        "    break\n",
        "  layer.trainable = False\n",
        "  print('Capa ' + layer.name + ' congelada...')\n",
        "\n",
        "# The last layer of the model is taken, and our classifier (top_model) is added to it.\n",
        "last = base_model.layers[-1].output\n",
        "x = Flatten()(last)\n",
        "x = Dense(256, activation='relu', name='fc1')(x)\n",
        "x = Dropout(0.25)(x)\n",
        "x = Dense(512, activation='relu', name='fc2')(x)\n",
        "x = Dense(6, activation='softmax', name='predictions')(x)\n",
        "model = Model(base_model.input, x)\n",
        "\n",
        "\n",
        "# Compilae the model\n",
        "optimizer = Adam(lr=0.00005)\n",
        "model.compile(optimizer=optimizer, loss='categorical_crossentropy', metrics=['accuracy'])\n",
        "\n",
        "\n",
        "model.summary()"
      ]
    },
    {
      "cell_type": "code",
      "execution_count": null,
      "metadata": {
        "id": "COkDEjjYONh3"
      },
      "outputs": [],
      "source": [
        "PATH_TO_SAVE_VGG16= '/content/drive/MyDrive/Colab Notebooks/TFM/results_VGG_100images'\n",
        "\n",
        "log_dir = PATH_TO_SAVE_VGG16+ \"/logs/fit/\" + datetime.datetime.now().strftime(\"%Y%m%d-%H%M%S\")\n",
        "tensorboard_callback = tf.keras.callbacks.TensorBoard(log_dir=log_dir, histogram_freq=1)\n",
        "\n",
        "\n",
        "lr_reduce = ReduceLROnPlateau(monitor='val_categorical_accuracy', factor=0.6, patience=8, verbose=1, mode='min', min_lr=5e-5)\n",
        "\n",
        "checkpoint_filepath = PATH_TO_SAVE_VGG16+\"/\"+\"{epoch:03d}_weights-improvement.h5\" #pathout+\"/model_checkpoint.h5\" #datetime.datetime.now().strftime(\"%Y%m%d-%H%M%S\"\n",
        "checkpoint = tf.keras.callbacks.ModelCheckpoint(filepath=checkpoint_filepath, monitor='loss', verbose=1, save_best_only=True, mode='min')\n",
        "callbacks_list = [checkpoint, lr_reduce]"
      ]
    },
    {
      "cell_type": "code",
      "execution_count": null,
      "metadata": {
        "colab": {
          "base_uri": "https://localhost:8080/",
          "height": 1000
        },
        "id": "iJ_WzZbKOgV9",
        "outputId": "dc3924fa-a7ae-4a88-d187-82938d1d3dda"
      },
      "outputs": [],
      "source": [
        "\n",
        "print(\"[INFO]: Entrenando la red...\")\n",
        "H = model.fit(datagen.flow(x_train, y_train_one_hot, batch_size=32,\n",
        "         subset='training'), # the split has been done, indicate it\n",
        "         validation_data=datagen.flow(x_val, y_val_one_hot,\n",
        "         batch_size=32, subset='validation'),\n",
        "          epochs=10, callbacks=[tensorboard_callback, callbacks_list])\n",
        "\n",
        "plt.plot(H.history['accuracy'])\n",
        "plt.plot(H.history['val_accuracy'])\n",
        "plt.title('Precision del modelo')\n",
        "plt.ylabel('Precision')\n",
        "plt.xlabel('epochs')\n",
        "plt.legend(['Entrenamiento', 'val'], loc='upper left')\n",
        "plt.savefig(PATH_TO_SAVE_VGG16+\"/accuracy.png\")\n",
        "\n",
        "plt.figure()"
      ]
    },
    {
      "cell_type": "markdown",
      "metadata": {
        "id": "rjkQ4x2HOQcq"
      },
      "source": [
        "\n",
        "\n",
        "Test the model of the rest of the images, selecting an epoch where there is not overfitting"
      ]
    },
    {
      "cell_type": "code",
      "execution_count": null,
      "metadata": {
        "id": "LxO9goI1ZP91"
      },
      "outputs": [],
      "source": [
        "\n",
        "dataset=  '/content/drive/MyDrive/real_images'\n",
        "folders = os.listdir(dataset)\n",
        "\n",
        "# list to load images and labels\n",
        "X_test_paper = []\n",
        "y_test_paper = []\n",
        "# Funtion to load images and labels\n",
        "def load_data(folder, label):\n",
        "    for file_i in os.listdir(folder):\n",
        "        path = os.path.join(folder, file_i)\n",
        "        image = cv2.imread(path)\n",
        "\n",
        "        if image is not None:\n",
        "          image = cv2.cvtColor(image, cv2.COLOR_BGR2RGB)  # Convert from BGR to RGB Convertir de BGR a RGB\n",
        "          image = cv2.resize(image, (224, 224))  # Resize to the same size\n",
        "          X_test_paper.append(image)\n",
        "          y_test_paper.append(label)\n",
        "        else:\n",
        "          print(path)\n",
        "# load data to each folder\n",
        "\n",
        "for  label in folders:\n",
        "  folder = os.path.join(dataset, label)\n",
        "\n",
        "  load_data(folder=folder, label=label)\n",
        "  print(f\"{label}----{folder}\")\n"
      ]
    },
    {
      "cell_type": "code",
      "execution_count": null,
      "metadata": {
        "colab": {
          "base_uri": "https://localhost:8080/"
        },
        "id": "aIgRu86UZjyq",
        "outputId": "028835f3-d46e-473b-bdac-18f2c494bef4"
      },
      "outputs": [
        {
          "name": "stdout",
          "output_type": "stream",
          "text": [
            "Forma del array de imágenes para test: (11800, 224, 224, 3)\n",
            "Forma del array de etiquetas para test: (11800,)\n",
            "(11800, 224, 224, 3)\n",
            "(11800,)\n"
          ]
        }
      ],
      "source": [
        "X_test_paper = np.array(X_test_paper)\n",
        "y_test_paper = np.array(y_test_paper)\n",
        "print(\"Forma del array de imágenes para test:\", X_test_paper.shape)\n",
        "print(\"Forma del array de etiquetas para test:\", y_test_paper.shape)\n",
        "\n",
        "label_encoder = LabelEncoder()\n",
        "y_test_encoded = label_encoder.fit_transform(y_test_paper)\n",
        "y_test_one_hot_p = to_categorical(y_test_encoded, num_classes=7)\n",
        "print(X_test_paper.shape)\n",
        "print(y_test_paper.shape)\n"
      ]
    },
    {
      "cell_type": "code",
      "execution_count": null,
      "metadata": {
        "id": "hKq3nRPHe1Ch"
      },
      "outputs": [],
      "source": [
        "model = tf.keras.models.load_model('/content/drive/MyDrive/Colab Notebooks/TFM/results_VGG_100images/013_weights-improvement.h5')"
      ]
    },
    {
      "cell_type": "code",
      "execution_count": null,
      "metadata": {
        "colab": {
          "base_uri": "https://localhost:8080/"
        },
        "id": "LKgezL-yZn5d",
        "outputId": "bc839a02-693a-4afa-f45a-d33b517ec344"
      },
      "outputs": [
        {
          "name": "stdout",
          "output_type": "stream",
          "text": [
            "[INFO]: Evaluando red neuronal...\n",
            "369/369 [==============================] - 15s 40ms/step\n"
          ]
        }
      ],
      "source": [
        "\n",
        "print(\"[INFO]: Evaluando red neuronal...\")\n",
        "predictions = model.predict(X_test_paper, batch_size=32)\n",
        "\n"
      ]
    },
    {
      "cell_type": "code",
      "execution_count": null,
      "metadata": {
        "colab": {
          "base_uri": "https://localhost:8080/"
        },
        "id": "N-4TUkwU9lIT",
        "outputId": "159fa22a-64be-4979-b4e4-08d35e490cd1"
      },
      "outputs": [
        {
          "name": "stdout",
          "output_type": "stream",
          "text": [
            "                 precision    recall  f1-score   support\n",
            "\n",
            "        adbomen       0.20      0.19      0.20       611\n",
            "          brain       0.67      0.45      0.54      2992\n",
            "          femur       0.14      0.52      0.21       940\n",
            "maternal_cervix       0.65      0.31      0.42      1526\n",
            "          other       0.51      0.46      0.49      4113\n",
            "          torax       0.20      0.14      0.17      1618\n",
            "\n",
            "       accuracy                           0.39     11800\n",
            "      macro avg       0.40      0.35      0.34     11800\n",
            "   weighted avg       0.48      0.39      0.41     11800\n",
            "\n"
          ]
        }
      ],
      "source": [
        "labels = ['adbomen', 'brain', 'femur', 'maternal_cervix', 'other', 'torax']\n",
        "print(classification_report(y_test_one_hot_p.argmax(axis=1), predictions.argmax(axis=1), target_names=labels))"
      ]
    },
    {
      "cell_type": "markdown",
      "metadata": {
        "id": "Vw83Fq_ax0Hs"
      },
      "source": [
        "\n",
        "Select the model finetuned with Google images and finetuned again with 100 images from each class of well labeled dataset"
      ]
    },
    {
      "cell_type": "code",
      "execution_count": null,
      "metadata": {
        "colab": {
          "base_uri": "https://localhost:8080/"
        },
        "id": "H7OQhpTox6sj",
        "outputId": "74ca884c-e0eb-4924-93b6-823d71b76b28"
      },
      "outputs": [
        {
          "name": "stdout",
          "output_type": "stream",
          "text": [
            "Model: \"model_4\"\n",
            "_________________________________________________________________\n",
            " Layer (type)                Output Shape              Param #   \n",
            "=================================================================\n",
            " input_5 (InputLayer)        [(None, 224, 224, 3)]     0         \n",
            "                                                                 \n",
            " block1_conv1 (Conv2D)       (None, 224, 224, 64)      1792      \n",
            "                                                                 \n",
            " block1_conv2 (Conv2D)       (None, 224, 224, 64)      36928     \n",
            "                                                                 \n",
            " block1_pool (MaxPooling2D)  (None, 112, 112, 64)      0         \n",
            "                                                                 \n",
            " block2_conv1 (Conv2D)       (None, 112, 112, 128)     73856     \n",
            "                                                                 \n",
            " block2_conv2 (Conv2D)       (None, 112, 112, 128)     147584    \n",
            "                                                                 \n",
            " block2_pool (MaxPooling2D)  (None, 56, 56, 128)       0         \n",
            "                                                                 \n",
            " block3_conv1 (Conv2D)       (None, 56, 56, 256)       295168    \n",
            "                                                                 \n",
            " block3_conv2 (Conv2D)       (None, 56, 56, 256)       590080    \n",
            "                                                                 \n",
            " block3_conv3 (Conv2D)       (None, 56, 56, 256)       590080    \n",
            "                                                                 \n",
            " block3_pool (MaxPooling2D)  (None, 28, 28, 256)       0         \n",
            "                                                                 \n",
            " block4_conv1 (Conv2D)       (None, 28, 28, 512)       1180160   \n",
            "                                                                 \n",
            " block4_conv2 (Conv2D)       (None, 28, 28, 512)       2359808   \n",
            "                                                                 \n",
            " block4_conv3 (Conv2D)       (None, 28, 28, 512)       2359808   \n",
            "                                                                 \n",
            " block4_pool (MaxPooling2D)  (None, 14, 14, 512)       0         \n",
            "                                                                 \n",
            " block5_conv1 (Conv2D)       (None, 14, 14, 512)       2359808   \n",
            "                                                                 \n",
            " block5_conv2 (Conv2D)       (None, 14, 14, 512)       2359808   \n",
            "                                                                 \n",
            " block5_conv3 (Conv2D)       (None, 14, 14, 512)       2359808   \n",
            "                                                                 \n",
            " block5_pool (MaxPooling2D)  (None, 7, 7, 512)         0         \n",
            "                                                                 \n",
            " flatten_4 (Flatten)         (None, 25088)             0         \n",
            "                                                                 \n",
            " fc1 (Dense)                 (None, 256)               6422784   \n",
            "                                                                 \n",
            " dropout_4 (Dropout)         (None, 256)               0         \n",
            "                                                                 \n",
            " predictions (Dense)         (None, 7)                 1799      \n",
            "                                                                 \n",
            "=================================================================\n",
            "Total params: 21139271 (80.64 MB)\n",
            "Trainable params: 8784391 (33.51 MB)\n",
            "Non-trainable params: 12354880 (47.13 MB)\n",
            "_________________________________________________________________\n"
          ]
        }
      ],
      "source": [
        "\n",
        "# load model:\n",
        "base_model = tf.keras.models.load_model('/content/drive/MyDrive/Colab Notebooks/vgg16/088_weights-improvement.h5')\n",
        "\n",
        "# Check its architecture\n",
        "base_model.summary()"
      ]
    },
    {
      "cell_type": "code",
      "execution_count": null,
      "metadata": {
        "id": "M8EnFQU9iqJs"
      },
      "outputs": [],
      "source": [
        "base_model.trainable=False\n",
        "inputs = tf.keras.Input(inputsize)\n",
        "x = base_model(inputs, training=False)\n",
        "x = tf.keras.layers.Dense(256, activation=\"relu\")(x)\n",
        "x = tf.keras.layers.Dropout(0.25)(x)\n",
        "x = tf.keras.layers.Flatten()(x)\n",
        "x = tf.keras.layers.Dense(256, activation=\"relu\")(x)\n",
        "\n",
        "x = tf.keras.layers.Dense(512, activation=\"relu\")(x)\n",
        "outputs = tf.keras.layers.Dense(6, activation='softmax')(x)\n",
        "model = tf.keras.Model(inputs, outputs)"
      ]
    },
    {
      "cell_type": "code",
      "execution_count": null,
      "metadata": {
        "colab": {
          "base_uri": "https://localhost:8080/"
        },
        "id": "R5Eu5PbzykDw",
        "outputId": "bdc4b640-9302-44b3-d1dd-925b5d0f7b99"
      },
      "outputs": [
        {
          "name": "stderr",
          "output_type": "stream",
          "text": [
            "WARNING:absl:`lr` is deprecated in Keras optimizer, please use `learning_rate` or use the legacy optimizer, e.g.,tf.keras.optimizers.legacy.Adam.\n"
          ]
        },
        {
          "name": "stdout",
          "output_type": "stream",
          "text": [
            "Capa input_5 congelada...\n",
            "Capa block1_conv1 congelada...\n",
            "Capa block1_conv2 congelada...\n",
            "Capa block1_pool congelada...\n",
            "Capa block2_conv1 congelada...\n",
            "Capa block2_conv2 congelada...\n",
            "Capa block2_pool congelada...\n",
            "Capa block3_conv1 congelada...\n",
            "Capa block3_conv2 congelada...\n",
            "Capa block3_conv3 congelada...\n",
            "Capa block3_pool congelada...\n",
            "Capa block4_conv1 congelada...\n",
            "Capa block4_conv2 congelada...\n",
            "Capa block4_conv3 congelada...\n",
            "Capa block4_pool congelada...\n",
            "Capa block5_conv1 congelada...\n",
            "Capa block5_conv2 congelada...\n",
            "Model: \"model\"\n",
            "_________________________________________________________________\n",
            " Layer (type)                Output Shape              Param #   \n",
            "=================================================================\n",
            " input_5 (InputLayer)        [(None, 224, 224, 3)]     0         \n",
            "                                                                 \n",
            " block1_conv1 (Conv2D)       (None, 224, 224, 64)      1792      \n",
            "                                                                 \n",
            " block1_conv2 (Conv2D)       (None, 224, 224, 64)      36928     \n",
            "                                                                 \n",
            " block1_pool (MaxPooling2D)  (None, 112, 112, 64)      0         \n",
            "                                                                 \n",
            " block2_conv1 (Conv2D)       (None, 112, 112, 128)     73856     \n",
            "                                                                 \n",
            " block2_conv2 (Conv2D)       (None, 112, 112, 128)     147584    \n",
            "                                                                 \n",
            " block2_pool (MaxPooling2D)  (None, 56, 56, 128)       0         \n",
            "                                                                 \n",
            " block3_conv1 (Conv2D)       (None, 56, 56, 256)       295168    \n",
            "                                                                 \n",
            " block3_conv2 (Conv2D)       (None, 56, 56, 256)       590080    \n",
            "                                                                 \n",
            " block3_conv3 (Conv2D)       (None, 56, 56, 256)       590080    \n",
            "                                                                 \n",
            " block3_pool (MaxPooling2D)  (None, 28, 28, 256)       0         \n",
            "                                                                 \n",
            " block4_conv1 (Conv2D)       (None, 28, 28, 512)       1180160   \n",
            "                                                                 \n",
            " block4_conv2 (Conv2D)       (None, 28, 28, 512)       2359808   \n",
            "                                                                 \n",
            " block4_conv3 (Conv2D)       (None, 28, 28, 512)       2359808   \n",
            "                                                                 \n",
            " block4_pool (MaxPooling2D)  (None, 14, 14, 512)       0         \n",
            "                                                                 \n",
            " block5_conv1 (Conv2D)       (None, 14, 14, 512)       2359808   \n",
            "                                                                 \n",
            " block5_conv2 (Conv2D)       (None, 14, 14, 512)       2359808   \n",
            "                                                                 \n",
            " block5_conv3 (Conv2D)       (None, 14, 14, 512)       2359808   \n",
            "                                                                 \n",
            " block5_pool (MaxPooling2D)  (None, 7, 7, 512)         0         \n",
            "                                                                 \n",
            " flatten_4 (Flatten)         (None, 25088)             0         \n",
            "                                                                 \n",
            " fc1 (Dense)                 (None, 256)               6422784   \n",
            "                                                                 \n",
            " dropout_4 (Dropout)         (None, 256)               0         \n",
            "                                                                 \n",
            " predictions (Dense)         (None, 7)                 1799      \n",
            "                                                                 \n",
            " flatten (Flatten)           (None, 7)                 0         \n",
            "                                                                 \n",
            " fc12 (Dense)                (None, 256)               2048      \n",
            "                                                                 \n",
            " dropout (Dropout)           (None, 256)               0         \n",
            "                                                                 \n",
            " fc22 (Dense)                (None, 1024)              263168    \n",
            "                                                                 \n",
            " predictions2 (Dense)        (None, 6)                 6150      \n",
            "                                                                 \n",
            "=================================================================\n",
            "Total params: 21410637 (81.68 MB)\n",
            "Trainable params: 9055757 (34.54 MB)\n",
            "Non-trainable params: 12354880 (47.13 MB)\n",
            "_________________________________________________________________\n"
          ]
        }
      ],
      "source": [
        "# The layers of the first 4 convolutional blocks are frozen, while the fifth one is retrained.\n",
        "# We have the information about the layer names in base_model.layers.name.\n",
        "for layer in base_model.layers:\n",
        "  if layer.name == 'block5_conv3':\n",
        "    break\n",
        "  layer.trainable = False\n",
        "  print('Capa ' + layer.name + ' congelada...')\n",
        "x = base_model.output\n",
        "# take the last layer os the model and add the lasst layer to the classifier (top_model)\n",
        "last = base_model.layers[-1].output\n",
        "\n",
        "x = Flatten()(x)\n",
        "\n",
        "x = Dense(256, activation='relu', name='fc12')(x)\n",
        "x = Dropout(0.25)(x)\n",
        "x = Dense(1024, activation='relu', name='fc22')(x)\n",
        "\n",
        "x = Dense(6, activation='softmax', name='predictions2')(x)\n",
        "model = Model(base_model.input, x)\n",
        "\n",
        "\n",
        "# Compile the model\n",
        "optimizer = Adam(lr=0.001)\n",
        "model.compile(loss='categorical_crossentropy', optimizer=optimizer, metrics=[ \"categorical_accuracy\"])\n",
        "\n",
        "\n",
        "model.summary()"
      ]
    },
    {
      "cell_type": "code",
      "execution_count": null,
      "metadata": {
        "id": "0ePCnWP3yxBU"
      },
      "outputs": [],
      "source": [
        "PATH_TO_SAVE_VGG16= '/content/drive/MyDrive/Colab Notebooks/TFM/results_VGG_100images-google2'\n",
        "\n",
        "log_dir = PATH_TO_SAVE_VGG16+ \"/logs/fit/\" + datetime.datetime.now().strftime(\"%Y%m%d-%H%M%S\")\n",
        "tensorboard_callback = tf.keras.callbacks.TensorBoard(log_dir=log_dir, histogram_freq=1)\n",
        "early_stop = EarlyStopping(monitor='val_loss', patience=4, restore_best_weights=True)\n",
        "\n",
        "\n",
        "lr_reduce = ReduceLROnPlateau(monitor='val_categorical_accuracy', factor=0.6, patience=8, verbose=1, mode='min', min_lr=5e-5)\n",
        "\n",
        "checkpoint_filepath = PATH_TO_SAVE_VGG16+\"/\"+\"{epoch:03d}_weights-improvement.h5\" #pathout+\"/model_checkpoint.h5\" #datetime.datetime.now().strftime(\"%Y%m%d-%H%M%S\"\n",
        "checkpoint = tf.keras.callbacks.ModelCheckpoint(filepath=checkpoint_filepath, monitor='loss', verbose=1, save_best_only=True, mode='min')\n",
        "callbacks_list = [checkpoint, lr_reduce]#, early_stop]"
      ]
    },
    {
      "cell_type": "code",
      "execution_count": null,
      "metadata": {
        "colab": {
          "base_uri": "https://localhost:8080/",
          "height": 1000
        },
        "id": "LaEf0yVwZKq6",
        "outputId": "8bf7482d-a503-47ab-d212-1239642b8b15"
      },
      "outputs": [
        {
          "name": "stdout",
          "output_type": "stream",
          "text": [
            "[INFO]: Entrenando la red...\n",
            "Epoch 1/35\n",
            "3/3 [==============================] - ETA: 0s - loss: 1.7413 - categorical_accuracy: 0.3724\n",
            "Epoch 1: loss improved from inf to 1.74132, saving model to /content/drive/MyDrive/Colab Notebooks/TFM/results_VGG_100images-google2/001_weights-improvement.h5\n"
          ]
        },
        {
          "name": "stderr",
          "output_type": "stream",
          "text": [
            "/usr/local/lib/python3.10/dist-packages/keras/src/engine/training.py:3103: UserWarning: You are saving your model as an HDF5 file via `model.save()`. This file format is considered legacy. We recommend using instead the native Keras format, e.g. `model.save('my_model.keras')`.\n",
            "  saving_api.save_model(\n"
          ]
        },
        {
          "name": "stdout",
          "output_type": "stream",
          "text": [
            "\b\b\b\b\b\b\b\b\b\b\b\b\b\b\b\b\b\b\b\b\b\b\b\b\b\b\b\b\b\b\b\b\b\b\b\b\b\b\b\b\b\b\b\b\b\b\b\b\b\b\b\b\b\b\b\b\b\b\b\b\b\b\b\b\b\b\b\b\b\b\b\b\b\b\b\b\b\b\b\b\b\b\b\b\b\b\b\b\b\b\b\b\r3/3 [==============================] - 18s 2s/step - loss: 1.7413 - categorical_accuracy: 0.3724 - val_loss: 1.6888 - val_categorical_accuracy: 0.4167 - lr: 0.0010\n",
            "Epoch 2/35\n",
            "3/3 [==============================] - ETA: 0s - loss: 1.5452 - categorical_accuracy: 0.6380\n",
            "Epoch 2: loss improved from 1.74132 to 1.54524, saving model to /content/drive/MyDrive/Colab Notebooks/TFM/results_VGG_100images-google2/002_weights-improvement.h5\n",
            "3/3 [==============================] - 6s 2s/step - loss: 1.5452 - categorical_accuracy: 0.6380 - val_loss: 1.5250 - val_categorical_accuracy: 0.5000 - lr: 0.0010\n",
            "Epoch 3/35\n",
            "3/3 [==============================] - ETA: 0s - loss: 1.3283 - categorical_accuracy: 0.7188\n",
            "Epoch 3: loss improved from 1.54524 to 1.32834, saving model to /content/drive/MyDrive/Colab Notebooks/TFM/results_VGG_100images-google2/003_weights-improvement.h5\n",
            "3/3 [==============================] - 7s 3s/step - loss: 1.3283 - categorical_accuracy: 0.7188 - val_loss: 1.2539 - val_categorical_accuracy: 0.6667 - lr: 0.0010\n",
            "Epoch 4/35\n",
            "3/3 [==============================] - ETA: 0s - loss: 1.1246 - categorical_accuracy: 0.7396\n",
            "Epoch 4: loss improved from 1.32834 to 1.12464, saving model to /content/drive/MyDrive/Colab Notebooks/TFM/results_VGG_100images-google2/004_weights-improvement.h5\n",
            "3/3 [==============================] - 6s 2s/step - loss: 1.1246 - categorical_accuracy: 0.7396 - val_loss: 1.0801 - val_categorical_accuracy: 0.6250 - lr: 0.0010\n",
            "Epoch 5/35\n",
            "3/3 [==============================] - ETA: 0s - loss: 0.8652 - categorical_accuracy: 0.7682\n",
            "Epoch 5: loss improved from 1.12464 to 0.86523, saving model to /content/drive/MyDrive/Colab Notebooks/TFM/results_VGG_100images-google2/005_weights-improvement.h5\n",
            "3/3 [==============================] - 6s 2s/step - loss: 0.8652 - categorical_accuracy: 0.7682 - val_loss: 1.0476 - val_categorical_accuracy: 0.6667 - lr: 0.0010\n",
            "Epoch 6/35\n",
            "3/3 [==============================] - ETA: 0s - loss: 0.7039 - categorical_accuracy: 0.8125\n",
            "Epoch 6: loss improved from 0.86523 to 0.70386, saving model to /content/drive/MyDrive/Colab Notebooks/TFM/results_VGG_100images-google2/006_weights-improvement.h5\n",
            "3/3 [==============================] - 7s 3s/step - loss: 0.7039 - categorical_accuracy: 0.8125 - val_loss: 1.0954 - val_categorical_accuracy: 0.5417 - lr: 0.0010\n",
            "Epoch 7/35\n",
            "3/3 [==============================] - ETA: 0s - loss: 0.6296 - categorical_accuracy: 0.7917\n",
            "Epoch 7: loss improved from 0.70386 to 0.62963, saving model to /content/drive/MyDrive/Colab Notebooks/TFM/results_VGG_100images-google2/007_weights-improvement.h5\n",
            "3/3 [==============================] - 6s 3s/step - loss: 0.6296 - categorical_accuracy: 0.7917 - val_loss: 0.6934 - val_categorical_accuracy: 0.7083 - lr: 0.0010\n",
            "Epoch 8/35\n",
            "3/3 [==============================] - ETA: 0s - loss: 0.5695 - categorical_accuracy: 0.8307\n",
            "Epoch 8: loss improved from 0.62963 to 0.56953, saving model to /content/drive/MyDrive/Colab Notebooks/TFM/results_VGG_100images-google2/008_weights-improvement.h5\n",
            "3/3 [==============================] - 6s 2s/step - loss: 0.5695 - categorical_accuracy: 0.8307 - val_loss: 1.0749 - val_categorical_accuracy: 0.6667 - lr: 0.0010\n",
            "Epoch 9/35\n",
            "3/3 [==============================] - ETA: 0s - loss: 0.5985 - categorical_accuracy: 0.8359\n",
            "Epoch 9: loss did not improve from 0.56953\n",
            "\n",
            "Epoch 9: ReduceLROnPlateau reducing learning rate to 0.0006000000284984708.\n",
            "3/3 [==============================] - 6s 2s/step - loss: 0.5985 - categorical_accuracy: 0.8359 - val_loss: 1.2519 - val_categorical_accuracy: 0.6250 - lr: 0.0010\n",
            "Epoch 10/35\n",
            "3/3 [==============================] - ETA: 0s - loss: 0.5130 - categorical_accuracy: 0.8516\n",
            "Epoch 10: loss improved from 0.56953 to 0.51301, saving model to /content/drive/MyDrive/Colab Notebooks/TFM/results_VGG_100images-google2/010_weights-improvement.h5\n",
            "3/3 [==============================] - 7s 2s/step - loss: 0.5130 - categorical_accuracy: 0.8516 - val_loss: 0.8868 - val_categorical_accuracy: 0.7083 - lr: 6.0000e-04\n",
            "Epoch 11/35\n",
            "3/3 [==============================] - ETA: 0s - loss: 0.5752 - categorical_accuracy: 0.8333\n",
            "Epoch 11: loss did not improve from 0.51301\n",
            "3/3 [==============================] - 6s 2s/step - loss: 0.5752 - categorical_accuracy: 0.8333 - val_loss: 0.9038 - val_categorical_accuracy: 0.7083 - lr: 6.0000e-04\n",
            "Epoch 12/35\n",
            "3/3 [==============================] - ETA: 0s - loss: 0.5212 - categorical_accuracy: 0.8385\n",
            "Epoch 12: loss did not improve from 0.51301\n",
            "3/3 [==============================] - 6s 2s/step - loss: 0.5212 - categorical_accuracy: 0.8385 - val_loss: 0.7842 - val_categorical_accuracy: 0.7500 - lr: 6.0000e-04\n",
            "Epoch 13/35\n",
            "3/3 [==============================] - ETA: 0s - loss: 0.4859 - categorical_accuracy: 0.8438\n",
            "Epoch 13: loss improved from 0.51301 to 0.48589, saving model to /content/drive/MyDrive/Colab Notebooks/TFM/results_VGG_100images-google2/013_weights-improvement.h5\n",
            "3/3 [==============================] - 7s 3s/step - loss: 0.4859 - categorical_accuracy: 0.8438 - val_loss: 1.0396 - val_categorical_accuracy: 0.6667 - lr: 6.0000e-04\n",
            "Epoch 14/35\n",
            "3/3 [==============================] - ETA: 0s - loss: 0.4709 - categorical_accuracy: 0.8620\n",
            "Epoch 14: loss improved from 0.48589 to 0.47094, saving model to /content/drive/MyDrive/Colab Notebooks/TFM/results_VGG_100images-google2/014_weights-improvement.h5\n",
            "3/3 [==============================] - 6s 2s/step - loss: 0.4709 - categorical_accuracy: 0.8620 - val_loss: 1.2879 - val_categorical_accuracy: 0.5833 - lr: 6.0000e-04\n",
            "Epoch 15/35\n",
            "3/3 [==============================] - ETA: 0s - loss: 0.4504 - categorical_accuracy: 0.8568\n",
            "Epoch 15: loss improved from 0.47094 to 0.45038, saving model to /content/drive/MyDrive/Colab Notebooks/TFM/results_VGG_100images-google2/015_weights-improvement.h5\n",
            "3/3 [==============================] - 7s 3s/step - loss: 0.4504 - categorical_accuracy: 0.8568 - val_loss: 0.8889 - val_categorical_accuracy: 0.6667 - lr: 6.0000e-04\n",
            "Epoch 16/35\n",
            "3/3 [==============================] - ETA: 0s - loss: 0.4275 - categorical_accuracy: 0.8620\n",
            "Epoch 16: loss improved from 0.45038 to 0.42753, saving model to /content/drive/MyDrive/Colab Notebooks/TFM/results_VGG_100images-google2/016_weights-improvement.h5\n",
            "3/3 [==============================] - 7s 3s/step - loss: 0.4275 - categorical_accuracy: 0.8620 - val_loss: 1.3100 - val_categorical_accuracy: 0.6250 - lr: 6.0000e-04\n",
            "Epoch 17/35\n",
            "3/3 [==============================] - ETA: 0s - loss: 0.4889 - categorical_accuracy: 0.8411\n",
            "Epoch 17: loss did not improve from 0.42753\n",
            "\n",
            "Epoch 17: ReduceLROnPlateau reducing learning rate to 0.0003600000170990825.\n",
            "3/3 [==============================] - 6s 2s/step - loss: 0.4889 - categorical_accuracy: 0.8411 - val_loss: 1.1627 - val_categorical_accuracy: 0.5833 - lr: 6.0000e-04\n",
            "Epoch 18/35\n",
            "3/3 [==============================] - ETA: 0s - loss: 0.4063 - categorical_accuracy: 0.8568\n",
            "Epoch 18: loss improved from 0.42753 to 0.40633, saving model to /content/drive/MyDrive/Colab Notebooks/TFM/results_VGG_100images-google2/018_weights-improvement.h5\n",
            "3/3 [==============================] - 6s 2s/step - loss: 0.4063 - categorical_accuracy: 0.8568 - val_loss: 0.8651 - val_categorical_accuracy: 0.6250 - lr: 3.6000e-04\n",
            "Epoch 19/35\n",
            "3/3 [==============================] - ETA: 0s - loss: 0.3948 - categorical_accuracy: 0.8776\n",
            "Epoch 19: loss improved from 0.40633 to 0.39477, saving model to /content/drive/MyDrive/Colab Notebooks/TFM/results_VGG_100images-google2/019_weights-improvement.h5\n",
            "3/3 [==============================] - 6s 2s/step - loss: 0.3948 - categorical_accuracy: 0.8776 - val_loss: 0.8651 - val_categorical_accuracy: 0.7083 - lr: 3.6000e-04\n",
            "Epoch 20/35\n",
            "3/3 [==============================] - ETA: 0s - loss: 0.4095 - categorical_accuracy: 0.8802\n",
            "Epoch 20: loss did not improve from 0.39477\n",
            "3/3 [==============================] - 6s 2s/step - loss: 0.4095 - categorical_accuracy: 0.8802 - val_loss: 0.8846 - val_categorical_accuracy: 0.6667 - lr: 3.6000e-04\n",
            "Epoch 21/35\n",
            "3/3 [==============================] - ETA: 0s - loss: 0.3823 - categorical_accuracy: 0.8802\n",
            "Epoch 21: loss improved from 0.39477 to 0.38231, saving model to /content/drive/MyDrive/Colab Notebooks/TFM/results_VGG_100images-google2/021_weights-improvement.h5\n",
            "3/3 [==============================] - 7s 3s/step - loss: 0.3823 - categorical_accuracy: 0.8802 - val_loss: 0.6663 - val_categorical_accuracy: 0.7500 - lr: 3.6000e-04\n",
            "Epoch 22/35\n",
            "3/3 [==============================] - ETA: 0s - loss: 0.4209 - categorical_accuracy: 0.8568\n",
            "Epoch 22: loss did not improve from 0.38231\n",
            "3/3 [==============================] - 6s 2s/step - loss: 0.4209 - categorical_accuracy: 0.8568 - val_loss: 0.7558 - val_categorical_accuracy: 0.7500 - lr: 3.6000e-04\n",
            "Epoch 23/35\n",
            "3/3 [==============================] - ETA: 0s - loss: 0.4044 - categorical_accuracy: 0.8776\n",
            "Epoch 23: loss did not improve from 0.38231\n",
            "3/3 [==============================] - 6s 2s/step - loss: 0.4044 - categorical_accuracy: 0.8776 - val_loss: 1.0138 - val_categorical_accuracy: 0.7500 - lr: 3.6000e-04\n",
            "Epoch 24/35\n",
            "3/3 [==============================] - ETA: 0s - loss: 0.3308 - categorical_accuracy: 0.8906\n",
            "Epoch 24: loss improved from 0.38231 to 0.33083, saving model to /content/drive/MyDrive/Colab Notebooks/TFM/results_VGG_100images-google2/024_weights-improvement.h5\n",
            "3/3 [==============================] - 7s 3s/step - loss: 0.3308 - categorical_accuracy: 0.8906 - val_loss: 1.0490 - val_categorical_accuracy: 0.7083 - lr: 3.6000e-04\n",
            "Epoch 25/35\n",
            "3/3 [==============================] - ETA: 0s - loss: 0.4096 - categorical_accuracy: 0.8776\n",
            "Epoch 25: loss did not improve from 0.33083\n",
            "\n",
            "Epoch 25: ReduceLROnPlateau reducing learning rate to 0.00021600000327453016.\n",
            "3/3 [==============================] - 6s 2s/step - loss: 0.4096 - categorical_accuracy: 0.8776 - val_loss: 0.9401 - val_categorical_accuracy: 0.7083 - lr: 3.6000e-04\n",
            "Epoch 26/35\n",
            "3/3 [==============================] - ETA: 0s - loss: 0.3871 - categorical_accuracy: 0.8854\n",
            "Epoch 26: loss did not improve from 0.33083\n",
            "3/3 [==============================] - 6s 2s/step - loss: 0.3871 - categorical_accuracy: 0.8854 - val_loss: 1.2435 - val_categorical_accuracy: 0.6250 - lr: 2.1600e-04\n",
            "Epoch 27/35\n",
            "3/3 [==============================] - ETA: 0s - loss: 0.4019 - categorical_accuracy: 0.8724\n",
            "Epoch 27: loss did not improve from 0.33083\n",
            "3/3 [==============================] - 6s 2s/step - loss: 0.4019 - categorical_accuracy: 0.8724 - val_loss: 0.7269 - val_categorical_accuracy: 0.7500 - lr: 2.1600e-04\n",
            "Epoch 28/35\n",
            "3/3 [==============================] - ETA: 0s - loss: 0.3702 - categorical_accuracy: 0.8880\n",
            "Epoch 28: loss did not improve from 0.33083\n",
            "3/3 [==============================] - 6s 2s/step - loss: 0.3702 - categorical_accuracy: 0.8880 - val_loss: 1.1385 - val_categorical_accuracy: 0.6250 - lr: 2.1600e-04\n",
            "Epoch 29/35\n",
            "3/3 [==============================] - ETA: 0s - loss: 0.3400 - categorical_accuracy: 0.8984\n",
            "Epoch 29: loss did not improve from 0.33083\n",
            "3/3 [==============================] - 6s 2s/step - loss: 0.3400 - categorical_accuracy: 0.8984 - val_loss: 0.6812 - val_categorical_accuracy: 0.7917 - lr: 2.1600e-04\n",
            "Epoch 30/35\n",
            "3/3 [==============================] - ETA: 0s - loss: 0.2939 - categorical_accuracy: 0.9062\n",
            "Epoch 30: loss improved from 0.33083 to 0.29387, saving model to /content/drive/MyDrive/Colab Notebooks/TFM/results_VGG_100images-google2/030_weights-improvement.h5\n",
            "3/3 [==============================] - 6s 2s/step - loss: 0.2939 - categorical_accuracy: 0.9062 - val_loss: 0.8099 - val_categorical_accuracy: 0.6667 - lr: 2.1600e-04\n",
            "Epoch 31/35\n",
            "3/3 [==============================] - ETA: 0s - loss: 0.3123 - categorical_accuracy: 0.8958\n",
            "Epoch 31: loss did not improve from 0.29387\n",
            "3/3 [==============================] - 6s 2s/step - loss: 0.3123 - categorical_accuracy: 0.8958 - val_loss: 0.4279 - val_categorical_accuracy: 0.8750 - lr: 2.1600e-04\n",
            "Epoch 32/35\n",
            "3/3 [==============================] - ETA: 0s - loss: 0.3977 - categorical_accuracy: 0.8854\n",
            "Epoch 32: loss did not improve from 0.29387\n",
            "3/3 [==============================] - 6s 2s/step - loss: 0.3977 - categorical_accuracy: 0.8854 - val_loss: 0.5642 - val_categorical_accuracy: 0.8333 - lr: 2.1600e-04\n",
            "Epoch 33/35\n",
            "3/3 [==============================] - ETA: 0s - loss: 0.3702 - categorical_accuracy: 0.8802\n",
            "Epoch 33: loss did not improve from 0.29387\n",
            "\n",
            "Epoch 33: ReduceLROnPlateau reducing learning rate to 0.00012960000021848827.\n",
            "3/3 [==============================] - 6s 2s/step - loss: 0.3702 - categorical_accuracy: 0.8802 - val_loss: 0.7785 - val_categorical_accuracy: 0.7500 - lr: 2.1600e-04\n",
            "Epoch 34/35\n",
            "3/3 [==============================] - ETA: 0s - loss: 0.3651 - categorical_accuracy: 0.8828\n",
            "Epoch 34: loss did not improve from 0.29387\n",
            "3/3 [==============================] - 6s 2s/step - loss: 0.3651 - categorical_accuracy: 0.8828 - val_loss: 0.8549 - val_categorical_accuracy: 0.7083 - lr: 1.2960e-04\n",
            "Epoch 35/35\n",
            "3/3 [==============================] - ETA: 0s - loss: 0.3338 - categorical_accuracy: 0.9115\n",
            "Epoch 35: loss did not improve from 0.29387\n",
            "3/3 [==============================] - 6s 2s/step - loss: 0.3338 - categorical_accuracy: 0.9115 - val_loss: 1.0717 - val_categorical_accuracy: 0.5833 - lr: 1.2960e-04\n"
          ]
        },
        {
          "data": {
            "text/plain": [
              "<Figure size 640x480 with 0 Axes>"
            ]
          },
          "execution_count": 34,
          "metadata": {},
          "output_type": "execute_result"
        },
        {
          "data": {
            "image/png": "[encoded data removed]",
            "text/plain": [
              "<Figure size 640x480 with 1 Axes>"
            ]
          },
          "metadata": {},
          "output_type": "display_data"
        },
        {
          "data": {
            "text/plain": [
              "<Figure size 640x480 with 0 Axes>"
            ]
          },
          "metadata": {},
          "output_type": "display_data"
        }
      ],
      "source": [
        "print(\"[INFO]: Entrenando la red...\")\n",
        "H = model.fit(datagen.flow(x_train, y_train_one_hot, batch_size=128,\n",
        "         subset='training'), \n",
        "         validation_data=datagen.flow(x_val, y_val_one_hot,\n",
        "         batch_size=128, subset='validation'),\n",
        "          epochs=35, callbacks=[tensorboard_callback, callbacks_list])\n",
        "\n",
        "plt.plot(H.history['categorical_accuracy'])\n",
        "plt.plot(H.history['val_categorical_accuracy'])\n",
        "plt.title('Precision del modelo')\n",
        "plt.ylabel('Precision')\n",
        "plt.xlabel('epochs')\n",
        "plt.legend(['Entrenamiento', 'val'], loc='upper left')\n",
        "plt.savefig(PATH_TO_SAVE_VGG16+\"/accuracy.png\")\n",
        "\n",
        "plt.figure()"
      ]
    },
    {
      "cell_type": "code",
      "execution_count": null,
      "metadata": {
        "id": "oulJsLRD7rer"
      },
      "outputs": [],
      "source": [
        "model.save('/content/drive/MyDrive/google-random.h5')"
      ]
    },
    {
      "cell_type": "code",
      "execution_count": null,
      "metadata": {
        "id": "c2EARRVAUbxq"
      },
      "outputs": [],
      "source": [
        "model = tf.keras.models.load_model('/content/drive/MyDrive/Colab Notebooks/TFM/results_VGG_100images-google/google-finetuned-best.h5')"
      ]
    },
    {
      "cell_type": "code",
      "execution_count": null,
      "metadata": {
        "colab": {
          "base_uri": "https://localhost:8080/"
        },
        "id": "0ekvM45qbgwz",
        "outputId": "d41409b9-06ed-420b-eceb-45635dbfbca0"
      },
      "outputs": [
        {
          "name": "stdout",
          "output_type": "stream",
          "text": [
            "[INFO]: Evaluando red neuronal...\n",
            "185/185 [==============================] - 16s 68ms/step\n"
          ]
        }
      ],
      "source": [
        "print(\"[INFO]: Evaluando red neuronal...\")\n",
        "predictions = model.predict(X_test_paper, batch_size=64)"
      ]
    },
    {
      "cell_type": "code",
      "execution_count": null,
      "metadata": {
        "colab": {
          "base_uri": "https://localhost:8080/"
        },
        "id": "N8YNDB67bjCQ",
        "outputId": "e7d5aa31-ac9f-4677-ea05-8a16ca50b0ca"
      },
      "outputs": [
        {
          "name": "stdout",
          "output_type": "stream",
          "text": [
            "                 precision    recall  f1-score   support\n",
            "\n",
            "        adbomen       0.59      0.83      0.69       611\n",
            "          brain       0.98      0.96      0.97      2992\n",
            "          femur       0.72      0.91      0.80       940\n",
            "maternal_cervix       0.99      1.00      0.99      1526\n",
            "          other       0.94      0.60      0.73      4113\n",
            "          torax       0.56      0.93      0.70      1618\n",
            "\n",
            "       accuracy                           0.82     11800\n",
            "      macro avg       0.80      0.87      0.82     11800\n",
            "   weighted avg       0.87      0.82      0.83     11800\n",
            "\n"
          ]
        }
      ],
      "source": [
        "labels = ['adbomen', 'brain', 'femur', 'maternal_cervix', 'other', 'torax']\n",
        "print(classification_report(y_test_one_hot_p.argmax(axis=1), predictions.argmax(axis=1), target_names=labels))"
      ]
    }
  ],
  "metadata": {
    "accelerator": "GPU",
    "colab": {
      "gpuType": "V100",
      "machine_shape": "hm",
      "provenance": []
    },
    "kernelspec": {
      "display_name": "Python 3",
      "name": "python3"
    },
    "language_info": {
      "name": "python"
    }
  },
  "nbformat": 4,
  "nbformat_minor": 0
}
